{
  "nbformat": 4,
  "nbformat_minor": 0,
  "metadata": {
    "colab": {
      "provenance": [],
      "gpuType": "T4"
    },
    "kernelspec": {
      "name": "python3",
      "display_name": "Python 3"
    },
    "language_info": {
      "name": "python"
    },
    "gpuClass": "standard"
  },
  "cells": [
    {
      "cell_type": "code",
      "execution_count": null,
      "metadata": {
        "colab": {
          "base_uri": "https://localhost:8080/"
        },
        "id": "f9e-TRAn-uNE",
        "outputId": "5ff6d3f1-2f10-425e-a7a3-66c38b90c69f"
      },
      "outputs": [
        {
          "output_type": "stream",
          "name": "stdout",
          "text": [
            "Drive already mounted at /content/drive; to attempt to forcibly remount, call drive.mount(\"/content/drive\", force_remount=True).\n"
          ]
        }
      ],
      "source": [
        "import pandas as pd\n",
        "import zipfile\n",
        "import numpy as np\n",
        "from folium.plugins import HeatMap\n",
        "from folium.plugins import MarkerCluster\n",
        "import pandas as pd\n",
        "import folium\n",
        "import json\n",
        "from google.colab import drive\n",
        "drive.mount('/content/drive')"
      ]
    },
    {
      "cell_type": "code",
      "source": [
        "zf = zipfile.ZipFile('/content/drive/MyDrive/House_Sale/House_Sale.zip') # alocando o arquivo zip\n",
        "data = pd.read_csv(zf.open('kc_house_data.csv')) # abrindo o arquivo CSV 'train.csv' presente dentro do ZIP"
      ],
      "metadata": {
        "id": "iJYr-jH6_sIt"
      },
      "execution_count": null,
      "outputs": []
    },
    {
      "cell_type": "code",
      "source": [
        "# verificando se há campos com valores NaN, como no treinamento da rede neural\n",
        "# foi feito isso aqui porque no mapa serão usados todos os atributos da casa então é bom formatar o dataframe da maneira adequada\n",
        "data.isnull().sum()"
      ],
      "metadata": {
        "id": "-zKBvHp-_bZc",
        "colab": {
          "base_uri": "https://localhost:8080/"
        },
        "outputId": "5c0f994c-4f80-4868-e916-dcd1449e57a1"
      },
      "execution_count": null,
      "outputs": [
        {
          "output_type": "execute_result",
          "data": {
            "text/plain": [
              "id               0\n",
              "date             0\n",
              "price            0\n",
              "bedrooms         0\n",
              "bathrooms        0\n",
              "sqft_living      0\n",
              "sqft_lot         0\n",
              "floors           0\n",
              "waterfront       0\n",
              "view             0\n",
              "condition        0\n",
              "grade            0\n",
              "sqft_above       2\n",
              "sqft_basement    0\n",
              "yr_built         0\n",
              "yr_renovated     0\n",
              "zipcode          0\n",
              "lat              0\n",
              "long             0\n",
              "sqft_living15    0\n",
              "sqft_lot15       0\n",
              "dtype: int64"
            ]
          },
          "metadata": {},
          "execution_count": 316
        }
      ]
    },
    {
      "cell_type": "code",
      "source": [
        "# descobrindo a localização exata dos valores NaN para que sejam removidos\n",
        "np.where(data['sqft_above'].isnull().values==True)"
      ],
      "metadata": {
        "colab": {
          "base_uri": "https://localhost:8080/"
        },
        "id": "W0w8XeptIxF3",
        "outputId": "ce268d48-fbf5-4e6f-f52e-e6b7f44efcba"
      },
      "execution_count": null,
      "outputs": [
        {
          "output_type": "execute_result",
          "data": {
            "text/plain": [
              "(array([10, 17]),)"
            ]
          },
          "metadata": {},
          "execution_count": 317
        }
      ]
    },
    {
      "cell_type": "code",
      "source": [
        "data = data.drop([10, 17]) # retirando os valores NaN"
      ],
      "metadata": {
        "id": "cvrWrTaoI35h"
      },
      "execution_count": null,
      "outputs": []
    },
    {
      "cell_type": "code",
      "source": [
        "\n",
        "df=pd.DataFrame(data) \n",
        "\n",
        "# no outro notebook colab usei np.save para salvar o objeto np.array \"new_price\", e agora estou carregando tal objeto\n",
        "new_price=np.load('new_price.npy') \n",
        "\n",
        "df['new_price']=new_price #adicionei ele no dataframe como uma nova coluna chamada new_price\n"
      ],
      "metadata": {
        "id": "v93leRwiNUs1"
      },
      "execution_count": null,
      "outputs": []
    },
    {
      "cell_type": "code",
      "source": [
        "geo_json_data = json.load(open('/content/washington.json')) #carregando o arquivo .json do estado de Washington"
      ],
      "metadata": {
        "id": "9LMsZdhqYhlq"
      },
      "execution_count": null,
      "outputs": []
    },
    {
      "cell_type": "code",
      "source": [
        "data=data.loc[:,:] # usando a função .loc() para acessar o dataframe inteiro\n",
        "\n",
        "# criando um mapa e iniciando ele na localização de uma casa qualquer do dataframe, com zoom inicial de 8\n",
        "mapa = folium.Map(location=[47.5112,-122.257], zoom_start=8) \n",
        "\n",
        "# sobrepondo o arquivo .json de washington no nosso mapa, destacando o estado e suas fronteiras\n",
        "folium.GeoJson(geo_json_data).add_to(mapa)"
      ],
      "metadata": {
        "colab": {
          "base_uri": "https://localhost:8080/"
        },
        "id": "E-O7pZ96o3sP",
        "outputId": "5e2bcad9-9b8c-4ba7-b645-ffa14b941693"
      },
      "execution_count": null,
      "outputs": [
        {
          "output_type": "execute_result",
          "data": {
            "text/plain": [
              "<folium.features.GeoJson at 0x7f3cf531f760>"
            ]
          },
          "metadata": {},
          "execution_count": 321
        }
      ]
    },
    {
      "cell_type": "code",
      "source": [
        "# uma alternativa pensada para reduzir a lentidão ao colocar todas as casas no mapa foi a clusterização dos marcadores.\n",
        "# Essa técnica agrupa marcadores próximos, sem mostrar todos os marcadores de uma só vez\n",
        "  # a técnica também foi usada na intenção de deixar o mapa mais bonito, limpo e com leitura fácil\n",
        "  # pois ficaria feio mais de 21600 marcadores juntos e amontoados\n",
        "\n",
        "marklus=MarkerCluster().add_to(mapa) # criando um objeto MarkerCluster() chamado marklus e adicionando ele ao nosso mapa\n",
        "\n",
        "# o método iterrows() itera sobre cada linha do dataframe\n",
        "for index, row in data.iterrows(): \n",
        "\n",
        "  # a variável popup_text armazena todos os dados que serão exibidos nos popups dos marcadores\n",
        "  # aqui foi usado HTML e CSS para personalizar o estilo e aparência tanto do popup como do texto dentro dele\n",
        "    popup_text = folium.Popup(f\"<div style='font-size: 10pt;'><i><span style='font-family: Palatino, URW Palladio L, serif;'><b>ID:</b> {row['id']}.<br> <b>Data de venda:</b> {row['date']}.<br> <b>Preço:</b> {row['price']}.<br> <b>Quartos:</b> {row['bedrooms']}.<br> <b>Banheiros:</b> {row['bathrooms']}.<br> <b>Metragem quadrada da casa:</b> {row['sqft_living']}.<br> <b>Metragem quadrada do lote:</b> {row['sqft_lot']}.<br> <b>Andares:</b> {row['floors']}.<br> <b>Casa beira-mar:</b> {row['waterfront']}.<br> <b>Visita:</b> {row['view']}.<br> <b>Condição:</b> {row['condition']}.<br> <b>Nota:</b> {row['grade']}.<br> <b>Metragem sem o porão:</b> {row['sqft_above']}.<br> <b>Metragem do porão:</b> {row['sqft_basement']}.<br> <b>Ano da construção:</b> {row['yr_built']}.<br> <b>Ano da renovação:</b> {row['yr_renovated']}.<br> <b>Zipcode:</b> {row['zipcode']}.<br> <b>Metragem da casa 2015:</b> {row['sqft_living15']}.<br> <b>Metragem do lote 2015:</b> {row['sqft_lot15']}.<br> <b>Novo preço:</b> {row['new_price']}</span><i></div>\", max_width=300)\n",
        "    folium.Marker(location=[row['lat'], row['long']],\n",
        "                  icon=folium.Icon(icon='home'),\n",
        "                  popup=popup_text, \n",
        "                  parse_html=True, \n",
        "                  tooltip=row['zipcode'], max_width=600).add_to(marklus) # adicionando os marcadores no mapa \n",
        "\n",
        "array = data[['lat', 'long', 'new_price']].values # foi criado um array para usar no mapa de calor\n",
        "HeatMap(array).add_to(mapa) # adicionando o mapa de calor com as latitudes e longitudes correspondentes e o peso (intensidade) sendo os valores do new_price\n",
        "\n",
        "folium.LayerControl().add_to(mapa) # essa função é usada para permitir que o usuário visualize e tenha coltrole sobre as camadas do mapa que ele quer ver\n",
        "\n",
        "mapa.save('mapaint.html') #salva o mapa como um arquivo .html para abrir no navegador\n"
      ],
      "metadata": {
        "id": "dp7ra7Vs-uoO"
      },
      "execution_count": null,
      "outputs": []
    }
  ]
}